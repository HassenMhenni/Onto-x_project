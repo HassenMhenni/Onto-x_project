{
 "cells": [
  {
   "cell_type": "markdown",
   "metadata": {},
   "source": [
    "# Load and Inspect the Dataset"
   ]
  },
  {
   "cell_type": "code",
   "execution_count": null,
   "metadata": {},
   "outputs": [],
   "source": [
    "import pandas as pd \n",
    "\n",
    "dataset_path = '../data/onto_x.csv'\n",
    "\n",
    "#Load data\n",
    "df = pd.read_csv(dataset_path)"
   ]
  },
  {
   "cell_type": "code",
   "execution_count": 6,
   "metadata": {},
   "outputs": [
    {
     "data": {
      "text/html": [
       "<div>\n",
       "<style scoped>\n",
       "    .dataframe tbody tr th:only-of-type {\n",
       "        vertical-align: middle;\n",
       "    }\n",
       "\n",
       "    .dataframe tbody tr th {\n",
       "        vertical-align: top;\n",
       "    }\n",
       "\n",
       "    .dataframe thead th {\n",
       "        text-align: right;\n",
       "    }\n",
       "</style>\n",
       "<table border=\"1\" class=\"dataframe\">\n",
       "  <thead>\n",
       "    <tr style=\"text-align: right;\">\n",
       "      <th></th>\n",
       "      <th>Class ID</th>\n",
       "      <th>Preferred Label</th>\n",
       "      <th>Parents</th>\n",
       "    </tr>\n",
       "  </thead>\n",
       "  <tbody>\n",
       "    <tr>\n",
       "      <th>0</th>\n",
       "      <td>http://entity/CST/HYPOCHLOREM</td>\n",
       "      <td>HYPOCHLOREMIA</td>\n",
       "      <td>http://entity/CST/METGEN|http://entity/CST/MAN...</td>\n",
       "    </tr>\n",
       "    <tr>\n",
       "      <th>1</th>\n",
       "      <td>http://entity/CST/EXTRAPYR%20SYND</td>\n",
       "      <td>EXTRAPYRAMIDAL SYNDROME</td>\n",
       "      <td>http://entity/CST/NERMOVE</td>\n",
       "    </tr>\n",
       "    <tr>\n",
       "      <th>2</th>\n",
       "      <td>http://entity/CST/VASCULITIS%20KIDNEY</td>\n",
       "      <td>KIDNEY VASCULITIS</td>\n",
       "      <td>http://entity/CST/PATHCOLLAGEN|http://entity/C...</td>\n",
       "    </tr>\n",
       "    <tr>\n",
       "      <th>3</th>\n",
       "      <td>http://entity/CST/SKIN/DERM</td>\n",
       "      <td>Dermatoses</td>\n",
       "      <td>NaN</td>\n",
       "    </tr>\n",
       "    <tr>\n",
       "      <th>4</th>\n",
       "      <td>http://entity/CST/FIBRO%20KIDNEY</td>\n",
       "      <td>KIDNEY FIBROSIS</td>\n",
       "      <td>http://entity/CST/UG/UT/K/M|http://entity/CST/...</td>\n",
       "    </tr>\n",
       "    <tr>\n",
       "      <th>5</th>\n",
       "      <td>http://entity/CST/MAN/ION/BR</td>\n",
       "      <td>Bromide Disorders</td>\n",
       "      <td>http://entity/CST/MAN/ION</td>\n",
       "    </tr>\n",
       "    <tr>\n",
       "      <th>6</th>\n",
       "      <td>http://entity/CST/PNEUMONIA</td>\n",
       "      <td>PNEUMONIA</td>\n",
       "      <td>http://entity/CST/PATHINFECT|http://entity/CST...</td>\n",
       "    </tr>\n",
       "    <tr>\n",
       "      <th>7</th>\n",
       "      <td>http://entity/CST/LEUKOCYTE%20VACUOL</td>\n",
       "      <td>LEUKOCYTE VACUOLIZATION</td>\n",
       "      <td>http://entity/CST/HEMWBCABN|http://entity/CST/...</td>\n",
       "    </tr>\n",
       "    <tr>\n",
       "      <th>8</th>\n",
       "      <td>http://entity/CST/GRANULOMA</td>\n",
       "      <td>GRANULOMA</td>\n",
       "      <td>http://entity/CST/BODY/GEN|http://entity/CST/P...</td>\n",
       "    </tr>\n",
       "    <tr>\n",
       "      <th>9</th>\n",
       "      <td>http://entity/STY/T057</td>\n",
       "      <td>Occupational Activity</td>\n",
       "      <td>http://entity/STY/T052</td>\n",
       "    </tr>\n",
       "  </tbody>\n",
       "</table>\n",
       "</div>"
      ],
      "text/plain": [
       "                                Class ID          Preferred Label  \\\n",
       "0          http://entity/CST/HYPOCHLOREM            HYPOCHLOREMIA   \n",
       "1      http://entity/CST/EXTRAPYR%20SYND  EXTRAPYRAMIDAL SYNDROME   \n",
       "2  http://entity/CST/VASCULITIS%20KIDNEY        KIDNEY VASCULITIS   \n",
       "3            http://entity/CST/SKIN/DERM               Dermatoses   \n",
       "4       http://entity/CST/FIBRO%20KIDNEY          KIDNEY FIBROSIS   \n",
       "5           http://entity/CST/MAN/ION/BR        Bromide Disorders   \n",
       "6            http://entity/CST/PNEUMONIA                PNEUMONIA   \n",
       "7   http://entity/CST/LEUKOCYTE%20VACUOL  LEUKOCYTE VACUOLIZATION   \n",
       "8            http://entity/CST/GRANULOMA                GRANULOMA   \n",
       "9                 http://entity/STY/T057    Occupational Activity   \n",
       "\n",
       "                                             Parents  \n",
       "0  http://entity/CST/METGEN|http://entity/CST/MAN...  \n",
       "1                          http://entity/CST/NERMOVE  \n",
       "2  http://entity/CST/PATHCOLLAGEN|http://entity/C...  \n",
       "3                                                NaN  \n",
       "4  http://entity/CST/UG/UT/K/M|http://entity/CST/...  \n",
       "5                          http://entity/CST/MAN/ION  \n",
       "6  http://entity/CST/PATHINFECT|http://entity/CST...  \n",
       "7  http://entity/CST/HEMWBCABN|http://entity/CST/...  \n",
       "8  http://entity/CST/BODY/GEN|http://entity/CST/P...  \n",
       "9                             http://entity/STY/T052  "
      ]
     },
     "metadata": {},
     "output_type": "display_data"
    }
   ],
   "source": [
    "#Print first rows of the dataset\n",
    "display(df.head(10))"
   ]
  },
  {
   "cell_type": "code",
   "execution_count": null,
   "metadata": {},
   "outputs": [
    {
     "name": "stdout",
     "output_type": "stream",
     "text": [
      "<class 'pandas.core.frame.DataFrame'>\n",
      "RangeIndex: 1707 entries, 0 to 1706\n",
      "Data columns (total 3 columns):\n",
      " #   Column           Non-Null Count  Dtype \n",
      "---  ------           --------------  ----- \n",
      " 0   Class ID         1707 non-null   object\n",
      " 1   Preferred Label  1707 non-null   object\n",
      " 2   Parents          1672 non-null   object\n",
      "dtypes: object(3)\n",
      "memory usage: 40.1+ KB\n"
     ]
    }
   ],
   "source": [
    "# Basic information about the dataset\n",
    "df.info()"
   ]
  },
  {
   "cell_type": "code",
   "execution_count": null,
   "metadata": {},
   "outputs": [
    {
     "data": {
      "text/html": [
       "<div>\n",
       "<style scoped>\n",
       "    .dataframe tbody tr th:only-of-type {\n",
       "        vertical-align: middle;\n",
       "    }\n",
       "\n",
       "    .dataframe tbody tr th {\n",
       "        vertical-align: top;\n",
       "    }\n",
       "\n",
       "    .dataframe thead th {\n",
       "        text-align: right;\n",
       "    }\n",
       "</style>\n",
       "<table border=\"1\" class=\"dataframe\">\n",
       "  <thead>\n",
       "    <tr style=\"text-align: right;\">\n",
       "      <th></th>\n",
       "      <th>Class ID</th>\n",
       "      <th>Preferred Label</th>\n",
       "      <th>Parents</th>\n",
       "    </tr>\n",
       "  </thead>\n",
       "  <tbody>\n",
       "    <tr>\n",
       "      <th>count</th>\n",
       "      <td>1707</td>\n",
       "      <td>1707</td>\n",
       "      <td>1672</td>\n",
       "    </tr>\n",
       "    <tr>\n",
       "      <th>unique</th>\n",
       "      <td>1707</td>\n",
       "      <td>1686</td>\n",
       "      <td>720</td>\n",
       "    </tr>\n",
       "    <tr>\n",
       "      <th>top</th>\n",
       "      <td>http://entity/STY/T197</td>\n",
       "      <td>INFECTION</td>\n",
       "      <td>http://www.w3.org/2002/07/owl#Thing</td>\n",
       "    </tr>\n",
       "    <tr>\n",
       "      <th>freq</th>\n",
       "      <td>1</td>\n",
       "      <td>3</td>\n",
       "      <td>24</td>\n",
       "    </tr>\n",
       "  </tbody>\n",
       "</table>\n",
       "</div>"
      ],
      "text/plain": [
       "                      Class ID Preferred Label  \\\n",
       "count                     1707            1707   \n",
       "unique                    1707            1686   \n",
       "top     http://entity/STY/T197       INFECTION   \n",
       "freq                         1               3   \n",
       "\n",
       "                                    Parents  \n",
       "count                                  1672  \n",
       "unique                                  720  \n",
       "top     http://www.w3.org/2002/07/owl#Thing  \n",
       "freq                                     24  "
      ]
     },
     "metadata": {},
     "output_type": "display_data"
    }
   ],
   "source": [
    "# Some stats about the dataset\n",
    "display(df.describe(include='all'))"
   ]
  },
  {
   "cell_type": "code",
   "execution_count": 9,
   "metadata": {},
   "outputs": [
    {
     "name": "stdout",
     "output_type": "stream",
     "text": [
      "Class ID            0\n",
      "Preferred Label     0\n",
      "Parents            35\n",
      "dtype: int64\n"
     ]
    }
   ],
   "source": [
    "# Check for missing values \n",
    "print(df.isnull().sum())"
   ]
  },
  {
   "cell_type": "code",
   "execution_count": null,
   "metadata": {},
   "outputs": [],
   "source": []
  }
 ],
 "metadata": {
  "kernelspec": {
   "display_name": "myenv",
   "language": "python",
   "name": "python3"
  },
  "language_info": {
   "codemirror_mode": {
    "name": "ipython",
    "version": 3
   },
   "file_extension": ".py",
   "mimetype": "text/x-python",
   "name": "python",
   "nbconvert_exporter": "python",
   "pygments_lexer": "ipython3",
   "version": "3.12.3"
  }
 },
 "nbformat": 4,
 "nbformat_minor": 2
}
